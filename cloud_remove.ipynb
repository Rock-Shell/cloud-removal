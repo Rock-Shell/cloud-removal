{
  "nbformat": 4,
  "nbformat_minor": 0,
  "metadata": {
    "colab": {
      "name": "cloud_remove",
      "provenance": [],
      "collapsed_sections": [],
      "include_colab_link": true
    },
    "kernelspec": {
      "display_name": "Python 3",
      "name": "python3"
    },
    "language_info": {
      "name": "python"
    },
    "widgets": {
      "application/vnd.jupyter.widget-state+json": {
        "3986bdcff11c4fe9b66f287d3b208a61": {
          "model_module": "@jupyter-widgets/controls",
          "model_name": "HBoxModel",
          "state": {
            "_view_name": "HBoxView",
            "_dom_classes": [],
            "_model_name": "HBoxModel",
            "_view_module": "@jupyter-widgets/controls",
            "_model_module_version": "1.5.0",
            "_view_count": null,
            "_view_module_version": "1.5.0",
            "box_style": "",
            "layout": "IPY_MODEL_ef4112996c8d4ce697bd3f91b6c7837f",
            "_model_module": "@jupyter-widgets/controls",
            "children": [
              "IPY_MODEL_26acd53b8f7644b38ddd1849ac1d07f3",
              "IPY_MODEL_8692d13016d7459a96575d989e91ecfc",
              "IPY_MODEL_f20fedb0f2814a4b9c0f0b702ce65ed3"
            ]
          }
        },
        "ef4112996c8d4ce697bd3f91b6c7837f": {
          "model_module": "@jupyter-widgets/base",
          "model_name": "LayoutModel",
          "state": {
            "_view_name": "LayoutView",
            "grid_template_rows": null,
            "right": null,
            "justify_content": null,
            "_view_module": "@jupyter-widgets/base",
            "overflow": null,
            "_model_module_version": "1.2.0",
            "_view_count": null,
            "flex_flow": null,
            "width": null,
            "min_width": null,
            "border": null,
            "align_items": null,
            "bottom": null,
            "_model_module": "@jupyter-widgets/base",
            "top": null,
            "grid_column": null,
            "overflow_y": null,
            "overflow_x": null,
            "grid_auto_flow": null,
            "grid_area": null,
            "grid_template_columns": null,
            "flex": null,
            "_model_name": "LayoutModel",
            "justify_items": null,
            "grid_row": null,
            "max_height": null,
            "align_content": null,
            "visibility": null,
            "align_self": null,
            "height": null,
            "min_height": null,
            "padding": null,
            "grid_auto_rows": null,
            "grid_gap": null,
            "max_width": null,
            "order": null,
            "_view_module_version": "1.2.0",
            "grid_template_areas": null,
            "object_position": null,
            "object_fit": null,
            "grid_auto_columns": null,
            "margin": null,
            "display": null,
            "left": null
          }
        },
        "26acd53b8f7644b38ddd1849ac1d07f3": {
          "model_module": "@jupyter-widgets/controls",
          "model_name": "HTMLModel",
          "state": {
            "_view_name": "HTMLView",
            "style": "IPY_MODEL_9612382c507b452ba3910feb0656e5ad",
            "_dom_classes": [],
            "description": "",
            "_model_name": "HTMLModel",
            "placeholder": "​",
            "_view_module": "@jupyter-widgets/controls",
            "_model_module_version": "1.5.0",
            "value": "100%",
            "_view_count": null,
            "_view_module_version": "1.5.0",
            "description_tooltip": null,
            "_model_module": "@jupyter-widgets/controls",
            "layout": "IPY_MODEL_a076f41961d94f1491d1fc148e2e616a"
          }
        },
        "8692d13016d7459a96575d989e91ecfc": {
          "model_module": "@jupyter-widgets/controls",
          "model_name": "FloatProgressModel",
          "state": {
            "_view_name": "ProgressView",
            "style": "IPY_MODEL_a7445cfa1d154e598fae400d0b42289b",
            "_dom_classes": [],
            "description": "",
            "_model_name": "FloatProgressModel",
            "bar_style": "success",
            "max": 500,
            "_view_module": "@jupyter-widgets/controls",
            "_model_module_version": "1.5.0",
            "value": 500,
            "_view_count": null,
            "_view_module_version": "1.5.0",
            "orientation": "horizontal",
            "min": 0,
            "description_tooltip": null,
            "_model_module": "@jupyter-widgets/controls",
            "layout": "IPY_MODEL_ee3c27a73a2a490d964dbee232e3226d"
          }
        },
        "f20fedb0f2814a4b9c0f0b702ce65ed3": {
          "model_module": "@jupyter-widgets/controls",
          "model_name": "HTMLModel",
          "state": {
            "_view_name": "HTMLView",
            "style": "IPY_MODEL_5c536e8f9b594a829abb6057e92908b4",
            "_dom_classes": [],
            "description": "",
            "_model_name": "HTMLModel",
            "placeholder": "​",
            "_view_module": "@jupyter-widgets/controls",
            "_model_module_version": "1.5.0",
            "value": " 500/500 [01:09&lt;00:00,  7.38it/s]",
            "_view_count": null,
            "_view_module_version": "1.5.0",
            "description_tooltip": null,
            "_model_module": "@jupyter-widgets/controls",
            "layout": "IPY_MODEL_ea14d6fdd6734a159410ca61d4bab7f4"
          }
        },
        "9612382c507b452ba3910feb0656e5ad": {
          "model_module": "@jupyter-widgets/controls",
          "model_name": "DescriptionStyleModel",
          "state": {
            "_view_name": "StyleView",
            "_model_name": "DescriptionStyleModel",
            "description_width": "",
            "_view_module": "@jupyter-widgets/base",
            "_model_module_version": "1.5.0",
            "_view_count": null,
            "_view_module_version": "1.2.0",
            "_model_module": "@jupyter-widgets/controls"
          }
        },
        "a076f41961d94f1491d1fc148e2e616a": {
          "model_module": "@jupyter-widgets/base",
          "model_name": "LayoutModel",
          "state": {
            "_view_name": "LayoutView",
            "grid_template_rows": null,
            "right": null,
            "justify_content": null,
            "_view_module": "@jupyter-widgets/base",
            "overflow": null,
            "_model_module_version": "1.2.0",
            "_view_count": null,
            "flex_flow": null,
            "width": null,
            "min_width": null,
            "border": null,
            "align_items": null,
            "bottom": null,
            "_model_module": "@jupyter-widgets/base",
            "top": null,
            "grid_column": null,
            "overflow_y": null,
            "overflow_x": null,
            "grid_auto_flow": null,
            "grid_area": null,
            "grid_template_columns": null,
            "flex": null,
            "_model_name": "LayoutModel",
            "justify_items": null,
            "grid_row": null,
            "max_height": null,
            "align_content": null,
            "visibility": null,
            "align_self": null,
            "height": null,
            "min_height": null,
            "padding": null,
            "grid_auto_rows": null,
            "grid_gap": null,
            "max_width": null,
            "order": null,
            "_view_module_version": "1.2.0",
            "grid_template_areas": null,
            "object_position": null,
            "object_fit": null,
            "grid_auto_columns": null,
            "margin": null,
            "display": null,
            "left": null
          }
        },
        "a7445cfa1d154e598fae400d0b42289b": {
          "model_module": "@jupyter-widgets/controls",
          "model_name": "ProgressStyleModel",
          "state": {
            "_view_name": "StyleView",
            "_model_name": "ProgressStyleModel",
            "description_width": "",
            "_view_module": "@jupyter-widgets/base",
            "_model_module_version": "1.5.0",
            "_view_count": null,
            "_view_module_version": "1.2.0",
            "bar_color": null,
            "_model_module": "@jupyter-widgets/controls"
          }
        },
        "ee3c27a73a2a490d964dbee232e3226d": {
          "model_module": "@jupyter-widgets/base",
          "model_name": "LayoutModel",
          "state": {
            "_view_name": "LayoutView",
            "grid_template_rows": null,
            "right": null,
            "justify_content": null,
            "_view_module": "@jupyter-widgets/base",
            "overflow": null,
            "_model_module_version": "1.2.0",
            "_view_count": null,
            "flex_flow": null,
            "width": null,
            "min_width": null,
            "border": null,
            "align_items": null,
            "bottom": null,
            "_model_module": "@jupyter-widgets/base",
            "top": null,
            "grid_column": null,
            "overflow_y": null,
            "overflow_x": null,
            "grid_auto_flow": null,
            "grid_area": null,
            "grid_template_columns": null,
            "flex": null,
            "_model_name": "LayoutModel",
            "justify_items": null,
            "grid_row": null,
            "max_height": null,
            "align_content": null,
            "visibility": null,
            "align_self": null,
            "height": null,
            "min_height": null,
            "padding": null,
            "grid_auto_rows": null,
            "grid_gap": null,
            "max_width": null,
            "order": null,
            "_view_module_version": "1.2.0",
            "grid_template_areas": null,
            "object_position": null,
            "object_fit": null,
            "grid_auto_columns": null,
            "margin": null,
            "display": null,
            "left": null
          }
        },
        "5c536e8f9b594a829abb6057e92908b4": {
          "model_module": "@jupyter-widgets/controls",
          "model_name": "DescriptionStyleModel",
          "state": {
            "_view_name": "StyleView",
            "_model_name": "DescriptionStyleModel",
            "description_width": "",
            "_view_module": "@jupyter-widgets/base",
            "_model_module_version": "1.5.0",
            "_view_count": null,
            "_view_module_version": "1.2.0",
            "_model_module": "@jupyter-widgets/controls"
          }
        },
        "ea14d6fdd6734a159410ca61d4bab7f4": {
          "model_module": "@jupyter-widgets/base",
          "model_name": "LayoutModel",
          "state": {
            "_view_name": "LayoutView",
            "grid_template_rows": null,
            "right": null,
            "justify_content": null,
            "_view_module": "@jupyter-widgets/base",
            "overflow": null,
            "_model_module_version": "1.2.0",
            "_view_count": null,
            "flex_flow": null,
            "width": null,
            "min_width": null,
            "border": null,
            "align_items": null,
            "bottom": null,
            "_model_module": "@jupyter-widgets/base",
            "top": null,
            "grid_column": null,
            "overflow_y": null,
            "overflow_x": null,
            "grid_auto_flow": null,
            "grid_area": null,
            "grid_template_columns": null,
            "flex": null,
            "_model_name": "LayoutModel",
            "justify_items": null,
            "grid_row": null,
            "max_height": null,
            "align_content": null,
            "visibility": null,
            "align_self": null,
            "height": null,
            "min_height": null,
            "padding": null,
            "grid_auto_rows": null,
            "grid_gap": null,
            "max_width": null,
            "order": null,
            "_view_module_version": "1.2.0",
            "grid_template_areas": null,
            "object_position": null,
            "object_fit": null,
            "grid_auto_columns": null,
            "margin": null,
            "display": null,
            "left": null
          }
        }
      }
    }
  },
  "cells": [
    {
      "cell_type": "markdown",
      "metadata": {
        "id": "view-in-github",
        "colab_type": "text"
      },
      "source": [
        "<a href=\"https://colab.research.google.com/github/Rock-Shell/cloud-removal/blob/main/cloud_remove.ipynb\" target=\"_parent\"><img src=\"https://colab.research.google.com/assets/colab-badge.svg\" alt=\"Open In Colab\"/></a>"
      ]
    },
    {
      "cell_type": "markdown",
      "metadata": {
        "id": "h5D3nRhgHB0d"
      },
      "source": [
        "<h2><center>Random Submission for Clouds Removal</center></h2>\n",
        "\n",
        "![](https://media.discordapp.net/attachments/703945836614123561/866939997021143040/banner.jpg?width=1439&height=277)"
      ]
    },
    {
      "cell_type": "markdown",
      "metadata": {
        "id": "U0lD9cVFuUTd"
      },
      "source": [
        "**Note : Create a copy of the notebook and use the copy for submission. Go to *File > Save a Copy in Drive* to create a new copy**"
      ]
    },
    {
      "cell_type": "markdown",
      "metadata": {
        "id": "rb80iADEFpE8"
      },
      "source": [
        "# Setting up Environment"
      ]
    },
    {
      "cell_type": "markdown",
      "metadata": {
        "id": "vkPGaG7eFqyi"
      },
      "source": [
        "### Downloading Dataset\n",
        "\n",
        "So we will first need to download the python library by AIcrowd that will allow us to download the dataset by just inputting the API key. "
      ]
    },
    {
      "cell_type": "code",
      "metadata": {
        "colab": {
          "base_uri": "https://localhost:8080/"
        },
        "id": "iqU6cl5eJW95",
        "outputId": "903f34ba-c165-47fb-f774-1fd939a50db7"
      },
      "source": [
        "!pip install aicrowd-cli\n",
        "\n",
        "%load_ext aicrowd.magic"
      ],
      "execution_count": 1,
      "outputs": [
        {
          "output_type": "stream",
          "text": [
            "Collecting aicrowd-cli\n",
            "  Downloading aicrowd_cli-0.1.8-py3-none-any.whl (43 kB)\n",
            "\u001b[?25l\r\u001b[K     |███████▋                        | 10 kB 25.7 MB/s eta 0:00:01\r\u001b[K     |███████████████▎                | 20 kB 28.8 MB/s eta 0:00:01\r\u001b[K     |██████████████████████▉         | 30 kB 20.1 MB/s eta 0:00:01\r\u001b[K     |██████████████████████████████▌ | 40 kB 17.3 MB/s eta 0:00:01\r\u001b[K     |████████████████████████████████| 43 kB 1.0 MB/s \n",
            "\u001b[?25hCollecting GitPython==3.1.18\n",
            "  Downloading GitPython-3.1.18-py3-none-any.whl (170 kB)\n",
            "\u001b[K     |████████████████████████████████| 170 kB 12.1 MB/s \n",
            "\u001b[?25hCollecting requests<3,>=2.25.1\n",
            "  Downloading requests-2.26.0-py2.py3-none-any.whl (62 kB)\n",
            "\u001b[K     |████████████████████████████████| 62 kB 945 kB/s \n",
            "\u001b[?25hCollecting rich<11,>=10.0.0\n",
            "  Downloading rich-10.6.0-py3-none-any.whl (208 kB)\n",
            "\u001b[K     |████████████████████████████████| 208 kB 53.9 MB/s \n",
            "\u001b[?25hRequirement already satisfied: toml<1,>=0.10.2 in /usr/local/lib/python3.7/dist-packages (from aicrowd-cli) (0.10.2)\n",
            "Requirement already satisfied: click<8,>=7.1.2 in /usr/local/lib/python3.7/dist-packages (from aicrowd-cli) (7.1.2)\n",
            "Collecting requests-toolbelt<1,>=0.9.1\n",
            "  Downloading requests_toolbelt-0.9.1-py2.py3-none-any.whl (54 kB)\n",
            "\u001b[K     |████████████████████████████████| 54 kB 2.9 MB/s \n",
            "\u001b[?25hCollecting tqdm<5,>=4.56.0\n",
            "  Downloading tqdm-4.62.0-py2.py3-none-any.whl (76 kB)\n",
            "\u001b[K     |████████████████████████████████| 76 kB 5.0 MB/s \n",
            "\u001b[?25hRequirement already satisfied: typing-extensions>=3.7.4.0 in /usr/local/lib/python3.7/dist-packages (from GitPython==3.1.18->aicrowd-cli) (3.7.4.3)\n",
            "Collecting gitdb<5,>=4.0.1\n",
            "  Downloading gitdb-4.0.7-py3-none-any.whl (63 kB)\n",
            "\u001b[K     |████████████████████████████████| 63 kB 1.9 MB/s \n",
            "\u001b[?25hCollecting smmap<5,>=3.0.1\n",
            "  Downloading smmap-4.0.0-py2.py3-none-any.whl (24 kB)\n",
            "Requirement already satisfied: urllib3<1.27,>=1.21.1 in /usr/local/lib/python3.7/dist-packages (from requests<3,>=2.25.1->aicrowd-cli) (1.24.3)\n",
            "Requirement already satisfied: idna<4,>=2.5 in /usr/local/lib/python3.7/dist-packages (from requests<3,>=2.25.1->aicrowd-cli) (2.10)\n",
            "Requirement already satisfied: certifi>=2017.4.17 in /usr/local/lib/python3.7/dist-packages (from requests<3,>=2.25.1->aicrowd-cli) (2021.5.30)\n",
            "Requirement already satisfied: charset-normalizer~=2.0.0 in /usr/local/lib/python3.7/dist-packages (from requests<3,>=2.25.1->aicrowd-cli) (2.0.2)\n",
            "Collecting colorama<0.5.0,>=0.4.0\n",
            "  Downloading colorama-0.4.4-py2.py3-none-any.whl (16 kB)\n",
            "Collecting commonmark<0.10.0,>=0.9.0\n",
            "  Downloading commonmark-0.9.1-py2.py3-none-any.whl (51 kB)\n",
            "\u001b[K     |████████████████████████████████| 51 kB 7.3 MB/s \n",
            "\u001b[?25hRequirement already satisfied: pygments<3.0.0,>=2.6.0 in /usr/local/lib/python3.7/dist-packages (from rich<11,>=10.0.0->aicrowd-cli) (2.6.1)\n",
            "Installing collected packages: smmap, requests, gitdb, commonmark, colorama, tqdm, rich, requests-toolbelt, GitPython, aicrowd-cli\n",
            "  Attempting uninstall: requests\n",
            "    Found existing installation: requests 2.23.0\n",
            "    Uninstalling requests-2.23.0:\n",
            "      Successfully uninstalled requests-2.23.0\n",
            "  Attempting uninstall: tqdm\n",
            "    Found existing installation: tqdm 4.41.1\n",
            "    Uninstalling tqdm-4.41.1:\n",
            "      Successfully uninstalled tqdm-4.41.1\n",
            "\u001b[31mERROR: pip's dependency resolver does not currently take into account all the packages that are installed. This behaviour is the source of the following dependency conflicts.\n",
            "google-colab 1.0.0 requires requests~=2.23.0, but you have requests 2.26.0 which is incompatible.\n",
            "datascience 0.10.6 requires folium==0.2.1, but you have folium 0.8.3 which is incompatible.\u001b[0m\n",
            "Successfully installed GitPython-3.1.18 aicrowd-cli-0.1.8 colorama-0.4.4 commonmark-0.9.1 gitdb-4.0.7 requests-2.26.0 requests-toolbelt-0.9.1 rich-10.6.0 smmap-4.0.0 tqdm-4.62.0\n"
          ],
          "name": "stdout"
        }
      ]
    },
    {
      "cell_type": "code",
      "metadata": {
        "colab": {
          "base_uri": "https://localhost:8080/"
        },
        "id": "HycOk3b4lVud",
        "outputId": "cf3ba588-b829-4612-a82e-17138a5f568f"
      },
      "source": [
        "%aicrowd login"
      ],
      "execution_count": 2,
      "outputs": [
        {
          "output_type": "stream",
          "text": [
            "Please login here: \u001b[34m\u001b[1m\u001b[4mhttps://api.aicrowd.com/auth/9gY3-p3T0j8EqolyOYo-tUd3g-CT9MxdB7jbm1Jyi4Q\u001b[0m\n",
            "\u001b[32mAPI Key valid\u001b[0m\n",
            "\u001b[32mSaved API Key successfully!\u001b[0m\n"
          ],
          "name": "stdout"
        }
      ]
    },
    {
      "cell_type": "code",
      "metadata": {
        "colab": {
          "base_uri": "https://localhost:8080/"
        },
        "id": "VKy0FTn3JfMP",
        "outputId": "6f9e1740-e1dc-4342-84b8-44678235841e"
      },
      "source": [
        "# Downloading the Dataset\n",
        "!rm -rf data\n",
        "!mkdir data\n",
        "!aicrowd dataset download -c clouds-removal \"*Partial*\" -o data"
      ],
      "execution_count": 3,
      "outputs": [
        {
          "output_type": "stream",
          "text": [
            "test.zip: 100% 601M/601M [00:39<00:00, 15.1MB/s]\n",
            "train.zip: 100% 1.62G/1.62G [02:08<00:00, 12.6MB/s]\n"
          ],
          "name": "stdout"
        }
      ]
    },
    {
      "cell_type": "code",
      "metadata": {
        "id": "wclXhnN3D6-M"
      },
      "source": [
        "# Unzipping the dataset\n",
        "!unzip data/train.zip -d data/train >> /dev/null\n",
        "!unzip data/test.zip -d data/test >> /dev/null"
      ],
      "execution_count": 4,
      "outputs": []
    },
    {
      "cell_type": "markdown",
      "metadata": {
        "id": "QTnTbpA8FyKI"
      },
      "source": [
        "# Importing Libraries"
      ]
    },
    {
      "cell_type": "code",
      "metadata": {
        "id": "1v1LjdBt9ljv"
      },
      "source": [
        "# Importing Libraries\n",
        "import os\n",
        "from natsort import natsorted\n",
        "from glob import glob\n",
        "import cv2\n",
        "import numpy as np\n",
        "from tqdm.notebook import tqdm\n",
        "import torch.nn as nn\n",
        "import torch\n",
        "import torch.nn.functional as fn"
      ],
      "execution_count": 8,
      "outputs": []
    },
    {
      "cell_type": "code",
      "metadata": {
        "id": "M0C3o0jvkz8C"
      },
      "source": [
        "class Model(nn.Module):\n",
        "    def __init__(self):\n",
        "        super(Model, self).__init__()\n",
        "        self.linear = torch.nn.Linear(27, 27)  # One in and one out\n",
        "        self.tanh = torch.nn.Tanh()\n",
        "    def forward(self, x):\n",
        "        y_pred = self.linear(x)\n",
        "        y_pred = self.tanh(y_pred)\n",
        "        return y_pred"
      ],
      "execution_count": 9,
      "outputs": []
    },
    {
      "cell_type": "code",
      "metadata": {
        "id": "cn_wX_b9kz_K"
      },
      "source": [
        "kernel = np.ones((27),np.uint8)\n",
        "kernel = torch.from_numpy(kernel.astype(np.float32))#.view(-1,1))\n",
        "\n",
        "model = Model()\n",
        "\n",
        "# Define loss function and optimizer function\n",
        "learning_rate=0.0001\n",
        "l = nn.MSELoss()\n",
        "optimizer = torch.optim.SGD(model.parameters(), lr=learning_rate)"
      ],
      "execution_count": 10,
      "outputs": []
    },
    {
      "cell_type": "code",
      "metadata": {
        "id": "yU4fpL5Uk0C_",
        "colab": {
          "base_uri": "https://localhost:8080/"
        },
        "outputId": "9e342d48-807a-4b13-d7a7-9c66c6a52a77"
      },
      "source": [
        "i =  0\n",
        "\n",
        "train =\"/content/data/train\"\n",
        "cloud = 'cloud_'\n",
        "clear = 'clear_'\n",
        "\n",
        "for i in range(500):\n",
        "  i+=1\n",
        "\n",
        "  cap = cv2.VideoCapture(train+'/'+clear+str(i)+'.mp4')\n",
        "  cap2 = cv2.VideoCapture(train+'/'+cloud+str(i)+'.mp4')\n",
        "\n",
        "  ret,frame = cap.read()\n",
        "  ret2,frame2 = cap2.read()\n",
        "  # print(cap.isOpened())\n",
        "  j=0\n",
        "  while cap.isOpened():\n",
        "      j+=1\n",
        "      ret,frame = cap.read() # clear\n",
        "      ret2,frame2 = cap2.read() # cloud\n",
        "      if isinstance(frame,type(None)):\n",
        "          break\n",
        "      \n",
        "      optimizer.zero_grad()\n",
        "      kernel = model.forward(kernel.requires_grad_())\n",
        "      Filter = kernel.detach().numpy()\n",
        "      Filter = Filter.reshape(3,3,3)\n",
        "      FB,FG,FR = Filter\n",
        "\n",
        "      frame = torch.from_numpy(frame).type(torch.FloatTensor)\n",
        "      \n",
        "      b,g,r = frame2[:,:,0], frame2[:,:,1], frame2[:,:,2]\n",
        "      b, g, r = cv2.filter2D(b,-1,FB), cv2.filter2D(g,-1,FG), cv2.filter2D(r,-1,FR)\n",
        "      frame1 = cv2.merge([b,g,r]) # output filtered image\n",
        "      \n",
        "      frame1 = torch.from_numpy(frame1).type(torch.FloatTensor).requires_grad_()\n",
        "      loss = l(frame1,frame)\n",
        "      if i%25==0 and j==23:\n",
        "        print(f'loss:{i} {loss}')\n",
        "      loss.backward()\n",
        "      optimizer.step()\n",
        "      if cv2.waitKey(1)==27:\n",
        "          break\n",
        "  # if i%25==0:\n",
        "    # print(f'loss:{i}')\n",
        "  cap.release()\n",
        "  cap2.release()"
      ],
      "execution_count": 26,
      "outputs": [
        {
          "output_type": "stream",
          "text": [
            "loss:50 11450.26171875\n",
            "loss:75 15003.2529296875\n",
            "loss:100 17694.30859375\n",
            "loss:125 9606.0966796875\n",
            "loss:150 5103.83837890625\n",
            "loss:175 4338.53369140625\n",
            "loss:200 11558.5634765625\n",
            "loss:225 7769.88818359375\n",
            "loss:250 11280.3134765625\n",
            "loss:275 13841.3564453125\n",
            "loss:300 11649.3916015625\n",
            "loss:325 12848.1748046875\n",
            "loss:350 6751.66650390625\n",
            "loss:375 9939.0517578125\n",
            "loss:400 16990.486328125\n",
            "loss:425 11682.7763671875\n",
            "loss:450 9768.041015625\n",
            "loss:475 4134.67919921875\n"
          ],
          "name": "stdout"
        }
      ]
    },
    {
      "cell_type": "code",
      "metadata": {
        "id": "Z7JSI_PBk0Sj",
        "colab": {
          "base_uri": "https://localhost:8080/"
        },
        "outputId": "ff30bdbf-1232-477d-c1df-c5f9099de78a"
      },
      "source": [
        "kernel\n",
        "Filter = kernel.detach().numpy()\n",
        "Filter = Filter.reshape(3,3,3)\n",
        "FB,FG,FR = Filter\n",
        "print(FB,FG,FR)"
      ],
      "execution_count": 29,
      "outputs": [
        {
          "output_type": "stream",
          "text": [
            "[[-0.19896239 -0.08124634 -0.03265512]\n",
            " [-0.0846378  -0.1567245  -0.13709679]\n",
            " [ 0.25152618  0.07867468  0.03071612]] [[ 0.09636816 -0.01523654 -0.0546141 ]\n",
            " [-0.0600318  -0.17934634 -0.19095093]\n",
            " [ 0.10221439 -0.1492599  -0.03747961]] [[ 0.02962592 -0.00734391 -0.04176827]\n",
            " [-0.02212531  0.00333535 -0.09800951]\n",
            " [ 0.0042775  -0.22180678  0.11317493]]\n"
          ],
          "name": "stdout"
        }
      ]
    },
    {
      "cell_type": "markdown",
      "metadata": {
        "id": "uoUdY14JF0ff"
      },
      "source": [
        "# Generate Random Submission\n",
        "\n",
        "In this section we will be generating a random submission. We will read all of the files from the tesing directroy and save the same video in `clear` directory for submsision. "
      ]
    },
    {
      "cell_type": "code",
      "metadata": {
        "id": "XoLWgahw8Yqq"
      },
      "source": [
        "# Creating a clear directory\n",
        "!rm -rf clear\n",
        "!mkdir clear"
      ],
      "execution_count": 28,
      "outputs": []
    },
    {
      "cell_type": "code",
      "metadata": {
        "id": "jKRKN2mDLpu2"
      },
      "source": [
        "# Random submission function\n",
        "def random_submission(data_directory):\n",
        "\n",
        "  # List of all videos\n",
        "  # video_files = natsorted(glob(data_directory))\n",
        "  video_files = \"/content/data/test\"\n",
        "\n",
        "  # Groung through each video\n",
        "  x = len(os.listdir(video_files))\n",
        "  cloud = '/cloud_'\n",
        "  for i in tqdm(range(500)):\n",
        "    \n",
        "    # Saving a new video file \n",
        "\n",
        "    fourcc = cv2.VideoWriter_fourcc(*'mp4v')\n",
        "    out = cv2.VideoWriter(os.path.join(\"clear\", f\"clear_{i}.mp4\"), fourcc, 24.0, (512,512))\n",
        "\n",
        "    # Reading the video\n",
        "    img_video = cv2.VideoCapture(video_files + cloud +str(i)+'.mp4')\n",
        "\n",
        "    # Going through each frame\n",
        "    ret=True\n",
        "\n",
        "    while ret:\n",
        "      \n",
        "      # Reading the frame\n",
        "      ret, frame = img_video.read()\n",
        "      if isinstance(frame,type(None)):\n",
        "          break\n",
        "\n",
        "      # ANY PREPROCESSIG FUNCTION\n",
        "      b,g,r = frame[:,:,0], frame[:,:,1], frame[:,:,2]\n",
        "      b, g, r = cv2.filter2D(b,-1,FB), cv2.filter2D(g,-1,FG), cv2.filter2D(r,-1,FR)\n",
        "      frame = cv2.merge([b,g,r]) # output filtered image\n",
        "\n",
        "      # Adding the frame to video writer\n",
        "      out.write(frame)"
      ],
      "execution_count": 42,
      "outputs": []
    },
    {
      "cell_type": "code",
      "metadata": {
        "colab": {
          "base_uri": "https://localhost:8080/",
          "height": 49,
          "referenced_widgets": [
            "3986bdcff11c4fe9b66f287d3b208a61",
            "ef4112996c8d4ce697bd3f91b6c7837f",
            "26acd53b8f7644b38ddd1849ac1d07f3",
            "8692d13016d7459a96575d989e91ecfc",
            "f20fedb0f2814a4b9c0f0b702ce65ed3",
            "9612382c507b452ba3910feb0656e5ad",
            "a076f41961d94f1491d1fc148e2e616a",
            "a7445cfa1d154e598fae400d0b42289b",
            "ee3c27a73a2a490d964dbee232e3226d",
            "5c536e8f9b594a829abb6057e92908b4",
            "ea14d6fdd6734a159410ca61d4bab7f4"
          ]
        },
        "id": "6bCkzf7RD3zy",
        "outputId": "969119cc-a3b4-47e6-a215-b71928c552a6"
      },
      "source": [
        "# Running the function\n",
        "random_submission(\"data/test/cloud*\")"
      ],
      "execution_count": 43,
      "outputs": [
        {
          "output_type": "display_data",
          "data": {
            "application/vnd.jupyter.widget-view+json": {
              "model_id": "3986bdcff11c4fe9b66f287d3b208a61",
              "version_minor": 0,
              "version_major": 2
            },
            "text/plain": [
              "  0%|          | 0/500 [00:00<?, ?it/s]"
            ]
          },
          "metadata": {
            "tags": []
          }
        }
      ]
    },
    {
      "cell_type": "markdown",
      "metadata": {
        "id": "LZbOGNdhEhA_"
      },
      "source": [
        "# Submitting Results 📄"
      ]
    },
    {
      "cell_type": "markdown",
      "metadata": {
        "id": "5HnnP1WXEixk"
      },
      "source": [
        "## Uploading the Results"
      ]
    },
    {
      "cell_type": "code",
      "metadata": {
        "colab": {
          "base_uri": "https://localhost:8080/"
        },
        "id": "0eoWFjgxEPot",
        "outputId": "f2405f22-d3b8-4699-bea4-d719ff46399f"
      },
      "source": [
        "!aicrowd notebook submit -c clouds-removal -a clear --no-verify"
      ],
      "execution_count": 44,
      "outputs": [
        {
          "output_type": "stream",
          "text": [
            "\u001b[1;34mMounting Google Drive 💾\u001b[0m\n",
            "Your Google Drive will be mounted to access the colab notebook\n",
            "Go to this URL in a browser: https://accounts.google.com/o/oauth2/auth?client_id=947318989803-6bn6qk8qdgf4n4g3pfee6491hc0brc4i.apps.googleusercontent.com&redirect_uri=urn%3aietf%3awg%3aoauth%3a2.0%3aoob&scope=email%20https%3a%2f%2fwww.googleapis.com%2fauth%2fdocs.test%20https%3a%2f%2fwww.googleapis.com%2fauth%2fdrive%20https%3a%2f%2fwww.googleapis.com%2fauth%2fdrive.photos.readonly%20https%3a%2f%2fwww.googleapis.com%2fauth%2fpeopleapi.readonly%20https%3a%2f%2fwww.googleapis.com%2fauth%2fdrive.activity.readonly%20https%3a%2f%2fwww.googleapis.com%2fauth%2fexperimentsandconfigs%20https%3a%2f%2fwww.googleapis.com%2fauth%2fphotos.native&response_type=code\n",
            "\n",
            "Enter your authorization code:\n",
            "4/1AX4XfWitoiJ8jBL9Alq40Z66FFLaf3DdHcwJYDv-Up1bVwSJO-Tsd68EhmM\n",
            "Mounted at /content/drive\n",
            "Using notebook: /content/drive/MyDrive/Colab Notebooks/cloud_remove for submission...\n",
            "Scrubbing API keys from the notebook...\n",
            "Collecting notebook...\n",
            "\u001b[2K\u001b[1;34msubmission.zip\u001b[0m \u001b[90m━━━━━━━━━━━━━━━━━━\u001b[0m \u001b[35m100.0%\u001b[0m • \u001b[32m376.4/374.8 KB\u001b[0m • \u001b[31m650.1 kB/s\u001b[0m • \u001b[36m0:00:00\u001b[0m\n",
            "\u001b[?25h                                                ╭─────────────────────────╮                                                 \n",
            "                                                │ \u001b[1mSuccessfully submitted!\u001b[0m │                                                 \n",
            "                                                ╰─────────────────────────╯                                                 \n",
            "\u001b[3m                                                      Important links                                                       \u001b[0m\n",
            "┌──────────────────┬───────────────────────────────────────────────────────────────────────────────────────────────────────┐\n",
            "│  This submission │ https://www.aicrowd.com/challenges/ai-blitz-x/problems/clouds-removal/submissions/152075              │\n",
            "│                  │                                                                                                       │\n",
            "│  All submissions │ https://www.aicrowd.com/challenges/ai-blitz-x/problems/clouds-removal/submissions?my_submissions=true │\n",
            "│                  │                                                                                                       │\n",
            "│      Leaderboard │ https://www.aicrowd.com/challenges/ai-blitz-x/problems/clouds-removal/leaderboards                    │\n",
            "│                  │                                                                                                       │\n",
            "│ Discussion forum │ https://discourse.aicrowd.com/c/ai-blitz-x                                                            │\n",
            "│                  │                                                                                                       │\n",
            "│   Challenge page │ https://www.aicrowd.com/challenges/ai-blitz-x/problems/clouds-removal                                 │\n",
            "└──────────────────┴───────────────────────────────────────────────────────────────────────────────────────────────────────┘\n"
          ],
          "name": "stdout"
        }
      ]
    },
    {
      "cell_type": "markdown",
      "metadata": {
        "id": "eUIL-kE0H_Y3"
      },
      "source": [
        "> Don't be shy to ask question related to any errors you are getting or doubts in any part of this notebook in [discussion forum](https://www.aicrowd.com/challenges/ai-blitz-10/problems/clouds-removal/discussion) or in [AIcrowd Discord sever](https://discord.gg/T6uZSWBMSZ), AIcrew will be happy to help you :)\n",
        "\n",
        "Also, wanna give us your valuable feedback for next blitz or wanna work with us creating blitz challanges ? Let us know! "
      ]
    },
    {
      "cell_type": "code",
      "metadata": {
        "id": "RZnkL-yLIDJX"
      },
      "source": [
        ""
      ],
      "execution_count": null,
      "outputs": []
    }
  ]
}