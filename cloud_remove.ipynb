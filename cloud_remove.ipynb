{
  "nbformat": 4,
  "nbformat_minor": 0,
  "metadata": {
    "colab": {
      "name": "cloud_remove",
      "provenance": [],
      "collapsed_sections": [],
      "include_colab_link": true
    },
    "kernelspec": {
      "display_name": "Python 3",
      "name": "python3"
    },
    "language_info": {
      "name": "python"
    },
    "widgets": {
      "application/vnd.jupyter.widget-state+json": {
        "162a360bd054449d9f5486fafdfd5858": {
          "model_module": "@jupyter-widgets/controls",
          "model_name": "HBoxModel",
          "state": {
            "_dom_classes": [],
            "_model_module": "@jupyter-widgets/controls",
            "_model_module_version": "1.5.0",
            "_model_name": "HBoxModel",
            "_view_count": null,
            "_view_module": "@jupyter-widgets/controls",
            "_view_module_version": "1.5.0",
            "_view_name": "HBoxView",
            "box_style": "",
            "children": [
              "IPY_MODEL_072dc64f80e5494a8044b31b8056cda2",
              "IPY_MODEL_1aed56e63461470ab2fa3414b19aad09",
              "IPY_MODEL_0024b4c2b89d45da9b59880cefe0f70f"
            ],
            "layout": "IPY_MODEL_48bb7d47fbb44d179361acd7200dccef"
          }
        },
        "072dc64f80e5494a8044b31b8056cda2": {
          "model_module": "@jupyter-widgets/controls",
          "model_name": "HTMLModel",
          "state": {
            "_dom_classes": [],
            "_model_module": "@jupyter-widgets/controls",
            "_model_module_version": "1.5.0",
            "_model_name": "HTMLModel",
            "_view_count": null,
            "_view_module": "@jupyter-widgets/controls",
            "_view_module_version": "1.5.0",
            "_view_name": "HTMLView",
            "description": "",
            "description_tooltip": null,
            "layout": "IPY_MODEL_32e888eab68b41fcbc65f69c74a8e923",
            "placeholder": "​",
            "style": "IPY_MODEL_fe2ac1eec1ca4118a8518d21e95fe8e2",
            "value": "100%"
          }
        },
        "1aed56e63461470ab2fa3414b19aad09": {
          "model_module": "@jupyter-widgets/controls",
          "model_name": "FloatProgressModel",
          "state": {
            "_dom_classes": [],
            "_model_module": "@jupyter-widgets/controls",
            "_model_module_version": "1.5.0",
            "_model_name": "FloatProgressModel",
            "_view_count": null,
            "_view_module": "@jupyter-widgets/controls",
            "_view_module_version": "1.5.0",
            "_view_name": "ProgressView",
            "bar_style": "success",
            "description": "",
            "description_tooltip": null,
            "layout": "IPY_MODEL_1584fb608ef7482eada158aa70d23316",
            "max": 500,
            "min": 0,
            "orientation": "horizontal",
            "style": "IPY_MODEL_01852fb1f035424db48a33aea4186d92",
            "value": 500
          }
        },
        "0024b4c2b89d45da9b59880cefe0f70f": {
          "model_module": "@jupyter-widgets/controls",
          "model_name": "HTMLModel",
          "state": {
            "_dom_classes": [],
            "_model_module": "@jupyter-widgets/controls",
            "_model_module_version": "1.5.0",
            "_model_name": "HTMLModel",
            "_view_count": null,
            "_view_module": "@jupyter-widgets/controls",
            "_view_module_version": "1.5.0",
            "_view_name": "HTMLView",
            "description": "",
            "description_tooltip": null,
            "layout": "IPY_MODEL_6c8f8031a7064b049d4c35c4e9053cf4",
            "placeholder": "​",
            "style": "IPY_MODEL_8edf58f0ed3e4f0490928b59ed9714e0",
            "value": " 500/500 [01:19&lt;00:00,  6.79it/s]"
          }
        },
        "48bb7d47fbb44d179361acd7200dccef": {
          "model_module": "@jupyter-widgets/base",
          "model_name": "LayoutModel",
          "state": {
            "_model_module": "@jupyter-widgets/base",
            "_model_module_version": "1.2.0",
            "_model_name": "LayoutModel",
            "_view_count": null,
            "_view_module": "@jupyter-widgets/base",
            "_view_module_version": "1.2.0",
            "_view_name": "LayoutView",
            "align_content": null,
            "align_items": null,
            "align_self": null,
            "border": null,
            "bottom": null,
            "display": null,
            "flex": null,
            "flex_flow": null,
            "grid_area": null,
            "grid_auto_columns": null,
            "grid_auto_flow": null,
            "grid_auto_rows": null,
            "grid_column": null,
            "grid_gap": null,
            "grid_row": null,
            "grid_template_areas": null,
            "grid_template_columns": null,
            "grid_template_rows": null,
            "height": null,
            "justify_content": null,
            "justify_items": null,
            "left": null,
            "margin": null,
            "max_height": null,
            "max_width": null,
            "min_height": null,
            "min_width": null,
            "object_fit": null,
            "object_position": null,
            "order": null,
            "overflow": null,
            "overflow_x": null,
            "overflow_y": null,
            "padding": null,
            "right": null,
            "top": null,
            "visibility": null,
            "width": null
          }
        },
        "32e888eab68b41fcbc65f69c74a8e923": {
          "model_module": "@jupyter-widgets/base",
          "model_name": "LayoutModel",
          "state": {
            "_model_module": "@jupyter-widgets/base",
            "_model_module_version": "1.2.0",
            "_model_name": "LayoutModel",
            "_view_count": null,
            "_view_module": "@jupyter-widgets/base",
            "_view_module_version": "1.2.0",
            "_view_name": "LayoutView",
            "align_content": null,
            "align_items": null,
            "align_self": null,
            "border": null,
            "bottom": null,
            "display": null,
            "flex": null,
            "flex_flow": null,
            "grid_area": null,
            "grid_auto_columns": null,
            "grid_auto_flow": null,
            "grid_auto_rows": null,
            "grid_column": null,
            "grid_gap": null,
            "grid_row": null,
            "grid_template_areas": null,
            "grid_template_columns": null,
            "grid_template_rows": null,
            "height": null,
            "justify_content": null,
            "justify_items": null,
            "left": null,
            "margin": null,
            "max_height": null,
            "max_width": null,
            "min_height": null,
            "min_width": null,
            "object_fit": null,
            "object_position": null,
            "order": null,
            "overflow": null,
            "overflow_x": null,
            "overflow_y": null,
            "padding": null,
            "right": null,
            "top": null,
            "visibility": null,
            "width": null
          }
        },
        "fe2ac1eec1ca4118a8518d21e95fe8e2": {
          "model_module": "@jupyter-widgets/controls",
          "model_name": "DescriptionStyleModel",
          "state": {
            "_model_module": "@jupyter-widgets/controls",
            "_model_module_version": "1.5.0",
            "_model_name": "DescriptionStyleModel",
            "_view_count": null,
            "_view_module": "@jupyter-widgets/base",
            "_view_module_version": "1.2.0",
            "_view_name": "StyleView",
            "description_width": ""
          }
        },
        "1584fb608ef7482eada158aa70d23316": {
          "model_module": "@jupyter-widgets/base",
          "model_name": "LayoutModel",
          "state": {
            "_model_module": "@jupyter-widgets/base",
            "_model_module_version": "1.2.0",
            "_model_name": "LayoutModel",
            "_view_count": null,
            "_view_module": "@jupyter-widgets/base",
            "_view_module_version": "1.2.0",
            "_view_name": "LayoutView",
            "align_content": null,
            "align_items": null,
            "align_self": null,
            "border": null,
            "bottom": null,
            "display": null,
            "flex": null,
            "flex_flow": null,
            "grid_area": null,
            "grid_auto_columns": null,
            "grid_auto_flow": null,
            "grid_auto_rows": null,
            "grid_column": null,
            "grid_gap": null,
            "grid_row": null,
            "grid_template_areas": null,
            "grid_template_columns": null,
            "grid_template_rows": null,
            "height": null,
            "justify_content": null,
            "justify_items": null,
            "left": null,
            "margin": null,
            "max_height": null,
            "max_width": null,
            "min_height": null,
            "min_width": null,
            "object_fit": null,
            "object_position": null,
            "order": null,
            "overflow": null,
            "overflow_x": null,
            "overflow_y": null,
            "padding": null,
            "right": null,
            "top": null,
            "visibility": null,
            "width": null
          }
        },
        "01852fb1f035424db48a33aea4186d92": {
          "model_module": "@jupyter-widgets/controls",
          "model_name": "ProgressStyleModel",
          "state": {
            "_model_module": "@jupyter-widgets/controls",
            "_model_module_version": "1.5.0",
            "_model_name": "ProgressStyleModel",
            "_view_count": null,
            "_view_module": "@jupyter-widgets/base",
            "_view_module_version": "1.2.0",
            "_view_name": "StyleView",
            "bar_color": null,
            "description_width": ""
          }
        },
        "6c8f8031a7064b049d4c35c4e9053cf4": {
          "model_module": "@jupyter-widgets/base",
          "model_name": "LayoutModel",
          "state": {
            "_model_module": "@jupyter-widgets/base",
            "_model_module_version": "1.2.0",
            "_model_name": "LayoutModel",
            "_view_count": null,
            "_view_module": "@jupyter-widgets/base",
            "_view_module_version": "1.2.0",
            "_view_name": "LayoutView",
            "align_content": null,
            "align_items": null,
            "align_self": null,
            "border": null,
            "bottom": null,
            "display": null,
            "flex": null,
            "flex_flow": null,
            "grid_area": null,
            "grid_auto_columns": null,
            "grid_auto_flow": null,
            "grid_auto_rows": null,
            "grid_column": null,
            "grid_gap": null,
            "grid_row": null,
            "grid_template_areas": null,
            "grid_template_columns": null,
            "grid_template_rows": null,
            "height": null,
            "justify_content": null,
            "justify_items": null,
            "left": null,
            "margin": null,
            "max_height": null,
            "max_width": null,
            "min_height": null,
            "min_width": null,
            "object_fit": null,
            "object_position": null,
            "order": null,
            "overflow": null,
            "overflow_x": null,
            "overflow_y": null,
            "padding": null,
            "right": null,
            "top": null,
            "visibility": null,
            "width": null
          }
        },
        "8edf58f0ed3e4f0490928b59ed9714e0": {
          "model_module": "@jupyter-widgets/controls",
          "model_name": "DescriptionStyleModel",
          "state": {
            "_model_module": "@jupyter-widgets/controls",
            "_model_module_version": "1.5.0",
            "_model_name": "DescriptionStyleModel",
            "_view_count": null,
            "_view_module": "@jupyter-widgets/base",
            "_view_module_version": "1.2.0",
            "_view_name": "StyleView",
            "description_width": ""
          }
        }
      }
    }
  },
  "cells": [
    {
      "cell_type": "markdown",
      "metadata": {
        "id": "view-in-github",
        "colab_type": "text"
      },
      "source": [
        "<a href=\"https://colab.research.google.com/github/Rock-Shell/cloud-removal/blob/main/cloud_remove.ipynb\" target=\"_parent\"><img src=\"https://colab.research.google.com/assets/colab-badge.svg\" alt=\"Open In Colab\"/></a>"
      ]
    },
    {
      "cell_type": "markdown",
      "metadata": {
        "id": "h5D3nRhgHB0d"
      },
      "source": [
        "<h2><center>Random Submission for Clouds Removal</center></h2>\n",
        "\n",
        "![](https://media.discordapp.net/attachments/703945836614123561/866939997021143040/banner.jpg?width=1439&height=277)"
      ]
    },
    {
      "cell_type": "markdown",
      "metadata": {
        "id": "U0lD9cVFuUTd"
      },
      "source": [
        "**Note : Create a copy of the notebook and use the copy for submission. Go to *File > Save a Copy in Drive* to create a new copy**"
      ]
    },
    {
      "cell_type": "markdown",
      "metadata": {
        "id": "rb80iADEFpE8"
      },
      "source": [
        "# Setting up Environment"
      ]
    },
    {
      "cell_type": "markdown",
      "metadata": {
        "id": "vkPGaG7eFqyi"
      },
      "source": [
        "### Downloading Dataset\n",
        "\n",
        "So we will first need to download the python library by AIcrowd that will allow us to download the dataset by just inputting the API key. "
      ]
    },
    {
      "cell_type": "code",
      "metadata": {
        "colab": {
          "base_uri": "https://localhost:8080/"
        },
        "id": "iqU6cl5eJW95",
        "outputId": "903f34ba-c165-47fb-f774-1fd939a50db7"
      },
      "source": [
        "!pip install aicrowd-cli\n",
        "\n",
        "%load_ext aicrowd.magic"
      ],
      "execution_count": 1,
      "outputs": [
        {
          "output_type": "stream",
          "text": [
            "Collecting aicrowd-cli\n",
            "  Downloading aicrowd_cli-0.1.8-py3-none-any.whl (43 kB)\n",
            "\u001b[?25l\r\u001b[K     |███████▋                        | 10 kB 25.7 MB/s eta 0:00:01\r\u001b[K     |███████████████▎                | 20 kB 28.8 MB/s eta 0:00:01\r\u001b[K     |██████████████████████▉         | 30 kB 20.1 MB/s eta 0:00:01\r\u001b[K     |██████████████████████████████▌ | 40 kB 17.3 MB/s eta 0:00:01\r\u001b[K     |████████████████████████████████| 43 kB 1.0 MB/s \n",
            "\u001b[?25hCollecting GitPython==3.1.18\n",
            "  Downloading GitPython-3.1.18-py3-none-any.whl (170 kB)\n",
            "\u001b[K     |████████████████████████████████| 170 kB 12.1 MB/s \n",
            "\u001b[?25hCollecting requests<3,>=2.25.1\n",
            "  Downloading requests-2.26.0-py2.py3-none-any.whl (62 kB)\n",
            "\u001b[K     |████████████████████████████████| 62 kB 945 kB/s \n",
            "\u001b[?25hCollecting rich<11,>=10.0.0\n",
            "  Downloading rich-10.6.0-py3-none-any.whl (208 kB)\n",
            "\u001b[K     |████████████████████████████████| 208 kB 53.9 MB/s \n",
            "\u001b[?25hRequirement already satisfied: toml<1,>=0.10.2 in /usr/local/lib/python3.7/dist-packages (from aicrowd-cli) (0.10.2)\n",
            "Requirement already satisfied: click<8,>=7.1.2 in /usr/local/lib/python3.7/dist-packages (from aicrowd-cli) (7.1.2)\n",
            "Collecting requests-toolbelt<1,>=0.9.1\n",
            "  Downloading requests_toolbelt-0.9.1-py2.py3-none-any.whl (54 kB)\n",
            "\u001b[K     |████████████████████████████████| 54 kB 2.9 MB/s \n",
            "\u001b[?25hCollecting tqdm<5,>=4.56.0\n",
            "  Downloading tqdm-4.62.0-py2.py3-none-any.whl (76 kB)\n",
            "\u001b[K     |████████████████████████████████| 76 kB 5.0 MB/s \n",
            "\u001b[?25hRequirement already satisfied: typing-extensions>=3.7.4.0 in /usr/local/lib/python3.7/dist-packages (from GitPython==3.1.18->aicrowd-cli) (3.7.4.3)\n",
            "Collecting gitdb<5,>=4.0.1\n",
            "  Downloading gitdb-4.0.7-py3-none-any.whl (63 kB)\n",
            "\u001b[K     |████████████████████████████████| 63 kB 1.9 MB/s \n",
            "\u001b[?25hCollecting smmap<5,>=3.0.1\n",
            "  Downloading smmap-4.0.0-py2.py3-none-any.whl (24 kB)\n",
            "Requirement already satisfied: urllib3<1.27,>=1.21.1 in /usr/local/lib/python3.7/dist-packages (from requests<3,>=2.25.1->aicrowd-cli) (1.24.3)\n",
            "Requirement already satisfied: idna<4,>=2.5 in /usr/local/lib/python3.7/dist-packages (from requests<3,>=2.25.1->aicrowd-cli) (2.10)\n",
            "Requirement already satisfied: certifi>=2017.4.17 in /usr/local/lib/python3.7/dist-packages (from requests<3,>=2.25.1->aicrowd-cli) (2021.5.30)\n",
            "Requirement already satisfied: charset-normalizer~=2.0.0 in /usr/local/lib/python3.7/dist-packages (from requests<3,>=2.25.1->aicrowd-cli) (2.0.2)\n",
            "Collecting colorama<0.5.0,>=0.4.0\n",
            "  Downloading colorama-0.4.4-py2.py3-none-any.whl (16 kB)\n",
            "Collecting commonmark<0.10.0,>=0.9.0\n",
            "  Downloading commonmark-0.9.1-py2.py3-none-any.whl (51 kB)\n",
            "\u001b[K     |████████████████████████████████| 51 kB 7.3 MB/s \n",
            "\u001b[?25hRequirement already satisfied: pygments<3.0.0,>=2.6.0 in /usr/local/lib/python3.7/dist-packages (from rich<11,>=10.0.0->aicrowd-cli) (2.6.1)\n",
            "Installing collected packages: smmap, requests, gitdb, commonmark, colorama, tqdm, rich, requests-toolbelt, GitPython, aicrowd-cli\n",
            "  Attempting uninstall: requests\n",
            "    Found existing installation: requests 2.23.0\n",
            "    Uninstalling requests-2.23.0:\n",
            "      Successfully uninstalled requests-2.23.0\n",
            "  Attempting uninstall: tqdm\n",
            "    Found existing installation: tqdm 4.41.1\n",
            "    Uninstalling tqdm-4.41.1:\n",
            "      Successfully uninstalled tqdm-4.41.1\n",
            "\u001b[31mERROR: pip's dependency resolver does not currently take into account all the packages that are installed. This behaviour is the source of the following dependency conflicts.\n",
            "google-colab 1.0.0 requires requests~=2.23.0, but you have requests 2.26.0 which is incompatible.\n",
            "datascience 0.10.6 requires folium==0.2.1, but you have folium 0.8.3 which is incompatible.\u001b[0m\n",
            "Successfully installed GitPython-3.1.18 aicrowd-cli-0.1.8 colorama-0.4.4 commonmark-0.9.1 gitdb-4.0.7 requests-2.26.0 requests-toolbelt-0.9.1 rich-10.6.0 smmap-4.0.0 tqdm-4.62.0\n"
          ],
          "name": "stdout"
        }
      ]
    },
    {
      "cell_type": "code",
      "metadata": {
        "colab": {
          "base_uri": "https://localhost:8080/"
        },
        "id": "HycOk3b4lVud",
        "outputId": "cf3ba588-b829-4612-a82e-17138a5f568f"
      },
      "source": [
        "%aicrowd login"
      ],
      "execution_count": 2,
      "outputs": [
        {
          "output_type": "stream",
          "text": [
            "Please login here: \u001b[34m\u001b[1m\u001b[4mhttps://api.aicrowd.com/auth/9gY3-p3T0j8EqolyOYo-tUd3g-CT9MxdB7jbm1Jyi4Q\u001b[0m\n",
            "\u001b[32mAPI Key valid\u001b[0m\n",
            "\u001b[32mSaved API Key successfully!\u001b[0m\n"
          ],
          "name": "stdout"
        }
      ]
    },
    {
      "cell_type": "code",
      "metadata": {
        "colab": {
          "base_uri": "https://localhost:8080/"
        },
        "id": "VKy0FTn3JfMP",
        "outputId": "6f9e1740-e1dc-4342-84b8-44678235841e"
      },
      "source": [
        "# Downloading the Dataset\n",
        "!rm -rf data\n",
        "!mkdir data\n",
        "!aicrowd dataset download -c clouds-removal \"*Partial*\" -o data"
      ],
      "execution_count": 3,
      "outputs": [
        {
          "output_type": "stream",
          "text": [
            "test.zip: 100% 601M/601M [00:39<00:00, 15.1MB/s]\n",
            "train.zip: 100% 1.62G/1.62G [02:08<00:00, 12.6MB/s]\n"
          ],
          "name": "stdout"
        }
      ]
    },
    {
      "cell_type": "code",
      "metadata": {
        "id": "wclXhnN3D6-M"
      },
      "source": [
        "# Unzipping the dataset\n",
        "!unzip data/train.zip -d data/train >> /dev/null\n",
        "!unzip data/test.zip -d data/test >> /dev/null"
      ],
      "execution_count": 4,
      "outputs": []
    },
    {
      "cell_type": "markdown",
      "metadata": {
        "id": "QTnTbpA8FyKI"
      },
      "source": [
        "# Importing Libraries"
      ]
    },
    {
      "cell_type": "code",
      "metadata": {
        "id": "1v1LjdBt9ljv"
      },
      "source": [
        "# Importing Libraries\n",
        "import os\n",
        "from natsort import natsorted\n",
        "from glob import glob\n",
        "import cv2\n",
        "import numpy as np\n",
        "from tqdm.notebook import tqdm\n",
        "import torch.nn as nn\n",
        "import torch\n",
        "import torch.nn.functional as fn"
      ],
      "execution_count": 8,
      "outputs": []
    },
    {
      "cell_type": "code",
      "metadata": {
        "id": "M0C3o0jvkz8C"
      },
      "source": [
        "class Model(nn.Module):\n",
        "    def __init__(self):\n",
        "        super(Model, self).__init__()\n",
        "        self.linear = torch.nn.Linear(27, 27)  # One in and one out\n",
        "        self.tanh = torch.nn.Tanh()\n",
        "    def forward(self, x):\n",
        "        y_pred = self.linear(x)\n",
        "        y_pred = self.tanh(y_pred)\n",
        "        return y_pred"
      ],
      "execution_count": 9,
      "outputs": []
    },
    {
      "cell_type": "code",
      "metadata": {
        "id": "cn_wX_b9kz_K"
      },
      "source": [
        "kernel = np.ones((27),np.uint8)\n",
        "kernel = torch.from_numpy(kernel.astype(np.float32))#.view(-1,1))\n",
        "\n",
        "model = Model()\n",
        "\n",
        "# Define loss function and optimizer function\n",
        "learning_rate=0.0001\n",
        "l = nn.MSELoss()\n",
        "optimizer = torch.optim.SGD(model.parameters(), lr=learning_rate)"
      ],
      "execution_count": 10,
      "outputs": []
    },
    {
      "cell_type": "code",
      "metadata": {
        "id": "yU4fpL5Uk0C_",
        "colab": {
          "base_uri": "https://localhost:8080/"
        },
        "outputId": "9e342d48-807a-4b13-d7a7-9c66c6a52a77"
      },
      "source": [
        "i =  0\n",
        "\n",
        "train =\"/content/data/train\"\n",
        "cloud = 'cloud_'\n",
        "clear = 'clear_'\n",
        "\n",
        "for i in range(500):\n",
        "  i+=1\n",
        "\n",
        "  cap = cv2.VideoCapture(train+'/'+clear+str(i)+'.mp4')\n",
        "  cap2 = cv2.VideoCapture(train+'/'+cloud+str(i)+'.mp4')\n",
        "\n",
        "  ret,frame = cap.read()\n",
        "  ret2,frame2 = cap2.read()\n",
        "  # print(cap.isOpened())\n",
        "  j=0\n",
        "  while cap.isOpened():\n",
        "      j+=1\n",
        "      ret,frame = cap.read() # clear\n",
        "      ret2,frame2 = cap2.read() # cloud\n",
        "      if isinstance(frame,type(None)):\n",
        "          break\n",
        "      \n",
        "      optimizer.zero_grad()\n",
        "      kernel = model.forward(kernel.requires_grad_())\n",
        "      Filter = kernel.detach().numpy()\n",
        "      Filter = Filter.reshape(3,3,3)\n",
        "      FB,FG,FR = Filter\n",
        "\n",
        "      frame = torch.from_numpy(frame).type(torch.FloatTensor)\n",
        "      \n",
        "      b,g,r = frame2[:,:,0], frame2[:,:,1], frame2[:,:,2]\n",
        "      b, g, r = cv2.filter2D(b,-1,FB), cv2.filter2D(g,-1,FG), cv2.filter2D(r,-1,FR)\n",
        "      frame1 = cv2.merge([b,g,r]) # output filtered image\n",
        "      \n",
        "      frame1 = torch.from_numpy(frame1).type(torch.FloatTensor).requires_grad_()\n",
        "      loss = l(frame1,frame)\n",
        "      if i%25==0 and j==23:\n",
        "        print(f'loss:{i} {loss}')\n",
        "      loss.backward()\n",
        "      optimizer.step()\n",
        "      if cv2.waitKey(1)==27:\n",
        "          break\n",
        "  # if i%25==0:\n",
        "    # print(f'loss:{i}')\n",
        "  cap.release()\n",
        "  cap2.release()"
      ],
      "execution_count": 26,
      "outputs": [
        {
          "output_type": "stream",
          "text": [
            "loss:50 11450.26171875\n",
            "loss:75 15003.2529296875\n",
            "loss:100 17694.30859375\n",
            "loss:125 9606.0966796875\n",
            "loss:150 5103.83837890625\n",
            "loss:175 4338.53369140625\n",
            "loss:200 11558.5634765625\n",
            "loss:225 7769.88818359375\n",
            "loss:250 11280.3134765625\n",
            "loss:275 13841.3564453125\n",
            "loss:300 11649.3916015625\n",
            "loss:325 12848.1748046875\n",
            "loss:350 6751.66650390625\n",
            "loss:375 9939.0517578125\n",
            "loss:400 16990.486328125\n",
            "loss:425 11682.7763671875\n",
            "loss:450 9768.041015625\n",
            "loss:475 4134.67919921875\n"
          ],
          "name": "stdout"
        }
      ]
    },
    {
      "cell_type": "code",
      "metadata": {
        "id": "Z7JSI_PBk0Sj",
        "colab": {
          "base_uri": "https://localhost:8080/"
        },
        "outputId": "d6b1e011-9d07-4338-e6a6-7f3c2895d94e"
      },
      "source": [
        "kernel"
      ],
      "execution_count": 27,
      "outputs": [
        {
          "output_type": "execute_result",
          "data": {
            "text/plain": [
              "tensor([-0.1990, -0.0812, -0.0327, -0.0846, -0.1567, -0.1371,  0.2515,  0.0787,\n",
              "         0.0307,  0.0964, -0.0152, -0.0546, -0.0600, -0.1793, -0.1910,  0.1022,\n",
              "        -0.1493, -0.0375,  0.0296, -0.0073, -0.0418, -0.0221,  0.0033, -0.0980,\n",
              "         0.0043, -0.2218,  0.1132], grad_fn=<TanhBackward>)"
            ]
          },
          "metadata": {
            "tags": []
          },
          "execution_count": 27
        }
      ]
    },
    {
      "cell_type": "markdown",
      "metadata": {
        "id": "uoUdY14JF0ff"
      },
      "source": [
        "# Generate Random Submission\n",
        "\n",
        "In this section we will be generating a random submission. We will read all of the files from the tesing directroy and save the same video in `clear` directory for submsision. "
      ]
    },
    {
      "cell_type": "code",
      "metadata": {
        "id": "XoLWgahw8Yqq"
      },
      "source": [
        "# Creating a clear directory\n",
        "!rm -rf clear\n",
        "!mkdir clear"
      ],
      "execution_count": 28,
      "outputs": []
    },
    {
      "cell_type": "code",
      "metadata": {
        "id": "jKRKN2mDLpu2"
      },
      "source": [
        "# Random submission function\n",
        "def random_submission(data_directory):\n",
        "\n",
        "  # List of all videos\n",
        "  video_files = natsorted(glob(data_directory))\n",
        "\n",
        "  # Groung through each video\n",
        "  for idx, img_file in enumerate(tqdm(video_files)):\n",
        "    \n",
        "    # Saving a new video file \n",
        "    fourcc = cv2.VideoWriter_fourcc(*'mp4v')\n",
        "    out = cv2.VideoWriter(os.path.join(\"clear\", f\"clear_{idx}.mp4\"), fourcc, 24.0, (512,512))\n",
        "\n",
        "    # Reading the video\n",
        "    img_video = cv2.VideoCapture(img_file)\n",
        "\n",
        "    # Going through each frame\n",
        "    ret=True\n",
        "    while ret:\n",
        "      \n",
        "      # Reading the frame\n",
        "      ret, frame = img_video.read()\n",
        "\n",
        "      # ANY PREPROCESSIG FUNCTION\n",
        "\n",
        "      # Adding the frame to video writer\n",
        "      out.write(frame)"
      ],
      "execution_count": null,
      "outputs": []
    },
    {
      "cell_type": "code",
      "metadata": {
        "colab": {
          "base_uri": "https://localhost:8080/",
          "height": 49,
          "referenced_widgets": [
            "162a360bd054449d9f5486fafdfd5858",
            "072dc64f80e5494a8044b31b8056cda2",
            "1aed56e63461470ab2fa3414b19aad09",
            "0024b4c2b89d45da9b59880cefe0f70f",
            "48bb7d47fbb44d179361acd7200dccef",
            "32e888eab68b41fcbc65f69c74a8e923",
            "fe2ac1eec1ca4118a8518d21e95fe8e2",
            "1584fb608ef7482eada158aa70d23316",
            "01852fb1f035424db48a33aea4186d92",
            "6c8f8031a7064b049d4c35c4e9053cf4",
            "8edf58f0ed3e4f0490928b59ed9714e0"
          ]
        },
        "id": "6bCkzf7RD3zy",
        "outputId": "b3249a23-2993-4d95-d653-9b02d710dc62"
      },
      "source": [
        "# Running the function\n",
        "random_submission(\"data/test/cloud*\")"
      ],
      "execution_count": null,
      "outputs": [
        {
          "output_type": "display_data",
          "data": {
            "application/vnd.jupyter.widget-view+json": {
              "model_id": "162a360bd054449d9f5486fafdfd5858",
              "version_major": 2,
              "version_minor": 0
            },
            "text/plain": [
              "  0%|          | 0/500 [00:00<?, ?it/s]"
            ]
          },
          "metadata": {
            "tags": []
          }
        }
      ]
    },
    {
      "cell_type": "markdown",
      "metadata": {
        "id": "LZbOGNdhEhA_"
      },
      "source": [
        "# Submitting Results 📄"
      ]
    },
    {
      "cell_type": "markdown",
      "metadata": {
        "id": "5HnnP1WXEixk"
      },
      "source": [
        "## Uploading the Results"
      ]
    },
    {
      "cell_type": "code",
      "metadata": {
        "colab": {
          "base_uri": "https://localhost:8080/"
        },
        "id": "0eoWFjgxEPot",
        "outputId": "66b318b5-d3e7-46f0-f585-209282df9888"
      },
      "source": [
        "!aicrowd notebook submit -c clouds-removal -a clear --no-verify"
      ],
      "execution_count": null,
      "outputs": [
        {
          "output_type": "stream",
          "text": [
            "\u001b[1;34mMounting Google Drive 💾\u001b[0m\n",
            "Your Google Drive will be mounted to access the colab notebook\n",
            "Go to this URL in a browser: https://accounts.google.com/o/oauth2/auth?client_id=947318989803-6bn6qk8qdgf4n4g3pfee6491hc0brc4i.apps.googleusercontent.com&redirect_uri=urn%3aietf%3awg%3aoauth%3a2.0%3aoob&scope=email%20https%3a%2f%2fwww.googleapis.com%2fauth%2fdocs.test%20https%3a%2f%2fwww.googleapis.com%2fauth%2fdrive%20https%3a%2f%2fwww.googleapis.com%2fauth%2fdrive.photos.readonly%20https%3a%2f%2fwww.googleapis.com%2fauth%2fpeopleapi.readonly%20https%3a%2f%2fwww.googleapis.com%2fauth%2fdrive.activity.readonly%20https%3a%2f%2fwww.googleapis.com%2fauth%2fexperimentsandconfigs%20https%3a%2f%2fwww.googleapis.com%2fauth%2fphotos.native&response_type=code\n",
            "\n",
            "Enter your authorization code:\n",
            "4/1AX4XfWhUnFUF-s1RIO9qTipri-ETF1fGbXJdDNNztbMfeZ-gmoh_e3RY4Gk\n",
            "Mounted at /content/drive\n",
            "Using notebook: /content/drive/MyDrive/Colab Notebooks/[Random Submission] Cloud Removal for submission...\n",
            "Scrubbing API keys from the notebook...\n",
            "Collecting notebook...\n",
            "\u001b[2K\u001b[1;34msubmission.zip\u001b[0m \u001b[90m━━━━━━━━━━━━━━━━━━━━\u001b[0m \u001b[35m100.0%\u001b[0m • \u001b[32m587.0/587.0 MB\u001b[0m • \u001b[31m2.3 MB/s\u001b[0m • \u001b[36m0:00:00\u001b[0m\n",
            "\u001b[?25h                                                 ╭─────────────────────────╮                                                 \n",
            "                                                 │ \u001b[1mSuccessfully submitted!\u001b[0m │                                                 \n",
            "                                                 ╰─────────────────────────╯                                                 \n",
            "\u001b[3m                                                       Important links                                                       \u001b[0m\n",
            "┌──────────────────┬────────────────────────────────────────────────────────────────────────────────────────────────────────┐\n",
            "│  This submission │ https://www.aicrowd.com/challenges/ai-blitz-10/problems/clouds-removal/submissions/150374              │\n",
            "│                  │                                                                                                        │\n",
            "│  All submissions │ https://www.aicrowd.com/challenges/ai-blitz-10/problems/clouds-removal/submissions?my_submissions=true │\n",
            "│                  │                                                                                                        │\n",
            "│      Leaderboard │ https://www.aicrowd.com/challenges/ai-blitz-10/problems/clouds-removal/leaderboards                    │\n",
            "│                  │                                                                                                        │\n",
            "│ Discussion forum │ https://discourse.aicrowd.com/c/ai-blitz-10                                                            │\n",
            "│                  │                                                                                                        │\n",
            "│   Challenge page │ https://www.aicrowd.com/challenges/ai-blitz-10/problems/clouds-removal                                 │\n",
            "└──────────────────┴────────────────────────────────────────────────────────────────────────────────────────────────────────┘\n"
          ],
          "name": "stdout"
        }
      ]
    },
    {
      "cell_type": "markdown",
      "metadata": {
        "id": "eUIL-kE0H_Y3"
      },
      "source": [
        "> Don't be shy to ask question related to any errors you are getting or doubts in any part of this notebook in [discussion forum](https://www.aicrowd.com/challenges/ai-blitz-10/problems/clouds-removal/discussion) or in [AIcrowd Discord sever](https://discord.gg/T6uZSWBMSZ), AIcrew will be happy to help you :)\n",
        "\n",
        "Also, wanna give us your valuable feedback for next blitz or wanna work with us creating blitz challanges ? Let us know! "
      ]
    },
    {
      "cell_type": "code",
      "metadata": {
        "id": "RZnkL-yLIDJX"
      },
      "source": [
        ""
      ],
      "execution_count": null,
      "outputs": []
    }
  ]
}